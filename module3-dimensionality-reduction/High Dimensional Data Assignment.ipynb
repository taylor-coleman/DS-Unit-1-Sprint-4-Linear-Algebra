{
  "nbformat": 4,
  "nbformat_minor": 0,
  "metadata": {
    "colab": {
      "name": "High Dimensional Data Assignment.ipynb",
      "version": "0.3.2",
      "provenance": [],
      "collapsed_sections": []
    },
    "kernelspec": {
      "name": "python3",
      "display_name": "Python 3"
    }
  },
  "cells": [
    {
      "cell_type": "markdown",
      "metadata": {
        "id": "7wMWCkE1RZpM",
        "colab_type": "text"
      },
      "source": [
        "# Vertical Line Test"
      ]
    },
    {
      "cell_type": "markdown",
      "metadata": {
        "id": "W0-g7aprRv2j",
        "colab_type": "text"
      },
      "source": [
        "## 1.1 Create two graphs, one that passes the vertical line test and one that does not."
      ]
    },
    {
      "cell_type": "code",
      "metadata": {
        "id": "fIJhCtF6RW_U",
        "colab_type": "code",
        "colab": {
          "base_uri": "https://localhost:8080/",
          "height": 269
        },
        "outputId": "5188ca35-721f-4f8f-a3df-594857f35d26"
      },
      "source": [
        "# Passes the vertical-line test\n",
        "\n",
        "import matplotlib.pyplot as plt\n",
        "plt.plot([1,2,3,4,5,6,7,8,9,10])\n",
        "plt.show()"
      ],
      "execution_count": 5,
      "outputs": [
        {
          "output_type": "display_data",
          "data": {
            "image/png": "[encoded data removed]",
            "text/plain": [
              "<Figure size 432x288 with 1 Axes>"
            ]
          },
          "metadata": {
            "tags": []
          }
        }
      ]
    },
    {
      "cell_type": "code",
      "metadata": {
        "id": "ThiHFd5dr3dh",
        "colab_type": "code",
        "colab": {
          "base_uri": "https://localhost:8080/",
          "height": 269
        },
        "outputId": "45d2afe0-3de1-4822-c2ec-309e1f7e5bbd"
      },
      "source": [
        "# Doesn't pass the vertical-line test\n",
        "\n",
        "import matplotlib.pyplot as plt\n",
        "x = [-1,1,1,1,6,7,8,9,10,10,7]\n",
        "y = [-1,-1,2,2,6,7,6,-1,8,9,10]\n",
        "plt.plot(x,y);"
      ],
      "execution_count": 22,
      "outputs": [
        {
          "output_type": "display_data",
          "data": {
            "image/png": "[encoded data removed]",
            "text/plain": [
              "<Figure size 432x288 with 1 Axes>"
            ]
          },
          "metadata": {
            "tags": []
          }
        }
      ]
    },
    {
      "cell_type": "markdown",
      "metadata": {
        "id": "ckeTKqMgRy7g",
        "colab_type": "text"
      },
      "source": [
        "## 1.2 Why are graphs that don't pass the vertical line test not considered \"functions?\""
      ]
    },
    {
      "cell_type": "markdown",
      "metadata": {
        "id": "Gtl20YeDR6x-",
        "colab_type": "text"
      },
      "source": [
        "Because a fucntion can only have one output for each unique x-value."
      ]
    },
    {
      "cell_type": "markdown",
      "metadata": {
        "id": "g21uN62xSKSk",
        "colab_type": "text"
      },
      "source": [
        "# Functions as Relations"
      ]
    },
    {
      "cell_type": "markdown",
      "metadata": {
        "id": "gwkcV-EMSMNd",
        "colab_type": "text"
      },
      "source": [
        "## 2.1 Which of the following relations are functions? Why?\n",
        "\n",
        "\\begin{align}\n",
        "\\text{Relation 1: } \\{(1, 2), (3, 2), (1, 3)\\}\n",
        "\\\\\n",
        "\\text{Relation 2: } \\{(1, 3), (2, 3), (6, 7)\\}\n",
        "\\\\\n",
        "\\text{Relation 3: } \\{(9, 4), (2, 1), (9, 6)\\}\n",
        "\\\\\n",
        "\\text{Relation 4: } \\{(6, 2), (8, 3), (6, 4)\\}\n",
        "\\\\\n",
        "\\text{Relation 5: } \\{(2, 6), (2, 7), (2, 4)\\}\n",
        "\\end{align}"
      ]
    },
    {
      "cell_type": "markdown",
      "metadata": {
        "id": "NqwTkF9BuVSP",
        "colab_type": "text"
      },
      "source": [
        "3,4,5 are all functions because for each x they only have 1 output"
      ]
    },
    {
      "cell_type": "markdown",
      "metadata": {
        "id": "y0U30PrlTAAa",
        "colab_type": "text"
      },
      "source": [
        "# Functions as a mapping between dimensions\n"
      ]
    },
    {
      "cell_type": "markdown",
      "metadata": {
        "id": "pw-OU9qmT5Ua",
        "colab_type": "text"
      },
      "source": [
        "## 3.1 for the following functions what is the dimensionality of the domain (input) and codomain (range/output)?\n",
        "\n",
        "\\begin{align}\n",
        "m(𝑥_1,𝑥_2,𝑥_3)=(x_1+x_2, x_1+x_3, x_2+x_3)\n",
        "\\\\\n",
        "n(𝑥_1,𝑥_2,𝑥_3,𝑥_4)=(x_2^2 + x_3, x_2x_4)\n",
        "\\end{align}"
      ]
    },
    {
      "cell_type": "markdown",
      "metadata": {
        "id": "JDtyizSbvMnT",
        "colab_type": "text"
      },
      "source": [
        "The dimensionality for the domain is R3 and for the rage/codomain is R4"
      ]
    },
    {
      "cell_type": "markdown",
      "metadata": {
        "id": "k4tKHjdHUevC",
        "colab_type": "text"
      },
      "source": [
        "## 3.2 Do you think it's possible to create a function that maps from a lower dimensional space to a higher dimensional space? If so, provide an example."
      ]
    },
    {
      "cell_type": "markdown",
      "metadata": {
        "id": "uz0iC0ACvWJn",
        "colab_type": "text"
      },
      "source": [
        "No I do not think this is possible."
      ]
    },
    {
      "cell_type": "markdown",
      "metadata": {
        "id": "2nEWvwVyVWdW",
        "colab_type": "text"
      },
      "source": [
        "# Vector Transformations"
      ]
    },
    {
      "cell_type": "markdown",
      "metadata": {
        "id": "1n0-6FsYVcVk",
        "colab_type": "text"
      },
      "source": [
        "## 4.1 Plug the corresponding unit vectors into each function. Use the output vectors to create a transformation matrix.\n",
        "\n",
        "\\begin{align}\n",
        "p(\\begin{bmatrix}x_1 \\\\ x_2 \\end{bmatrix}) = \\begin{bmatrix} x_1 + 3x_2 \\\\2 x_2 - x_1 \\\\  \\end{bmatrix}\n",
        "\\\\\n",
        "\\\\\n",
        "q(\\begin{bmatrix}x_1 \\\\ x_2 \\\\ x_3\\end{bmatrix}) = \\begin{bmatrix} 4x_1 + x_2 + 2x_3 \\\\2 x_2 - x_1 + 3x_3 \\\\ 5x_1 - 2x_3 + x_2  \\end{bmatrix}\n",
        "\\end{align}"
      ]
    },
    {
      "cell_type": "markdown",
      "metadata": {
        "id": "n5HUOQIxZ2gp",
        "colab_type": "text"
      },
      "source": [
        "## 4.2 Verify that your transformation matrices are correct by choosing an input matrix and calculating the result both via the traditional functions above and also via vector-matrix multiplication."
      ]
    },
    {
      "cell_type": "code",
      "metadata": {
        "id": "0UANR1IEaVWE",
        "colab_type": "code",
        "colab": {}
      },
      "source": [
        ""
      ],
      "execution_count": 0,
      "outputs": []
    },
    {
      "cell_type": "markdown",
      "metadata": {
        "id": "vEoiri3mak7j",
        "colab_type": "text"
      },
      "source": [
        "# Eigenvalues and Eigenvectors"
      ]
    },
    {
      "cell_type": "markdown",
      "metadata": {
        "id": "5HY0R4u7anIr",
        "colab_type": "text"
      },
      "source": [
        "## 5.1 In your own words, give an explanation for the intuition behind eigenvalues and eigenvectors."
      ]
    },
    {
      "cell_type": "markdown",
      "metadata": {
        "id": "7Sj9EJZvwBql",
        "colab_type": "text"
      },
      "source": [
        "Eigenvalues are special scalars that are multiplied by a vector that gives an eigenvector within a linear system of equations."
      ]
    },
    {
      "cell_type": "markdown",
      "metadata": {
        "id": "VdehMwBtatKI",
        "colab_type": "text"
      },
      "source": [
        "# The Curse of Dimensionality"
      ]
    },
    {
      "cell_type": "markdown",
      "metadata": {
        "id": "4oVrJax-a3SK",
        "colab_type": "text"
      },
      "source": [
        "## 6.1 What are some of the challenges of working with high dimensional spaces?"
      ]
    },
    {
      "cell_type": "markdown",
      "metadata": {
        "id": "kDrHX9tewR4p",
        "colab_type": "text"
      },
      "source": [
        "Working with a high amount of features which our computer cant handle. So we can use processes like PCA or singular value decompisition to scale it down and use the \"more important\" features that we need."
      ]
    },
    {
      "cell_type": "markdown",
      "metadata": {
        "id": "ZiBJxsZla88c",
        "colab_type": "text"
      },
      "source": [
        "## 6.2 What is the rule of thumb for how many observations you should have compared to parameters in your model?"
      ]
    },
    {
      "cell_type": "markdown",
      "metadata": {
        "id": "9ZznWgEkwmtN",
        "colab_type": "text"
      },
      "source": [
        "The rule is that you have at least 5 times the amount of observations than features."
      ]
    },
    {
      "cell_type": "markdown",
      "metadata": {
        "id": "NZmqdeygbHJx",
        "colab_type": "text"
      },
      "source": [
        "# Principal Component Analysis"
      ]
    },
    {
      "cell_type": "markdown",
      "metadata": {
        "id": "7iEheetpbJdN",
        "colab_type": "text"
      },
      "source": [
        "## 7.1 Load the UCI Machine Learning Repository's [Iris Dataset](https://gist.githubusercontent.com/curran/a08a1080b88344b0c8a7/raw/d546eaee765268bf2f487608c537c05e22e4b221/iris.csv) and use PCA to isolate the dataset's first and second principal components and plot them on a graph. "
      ]
    },
    {
      "cell_type": "code",
      "metadata": {
        "id": "wy9AZVgZcHLZ",
        "colab_type": "code",
        "colab": {
          "base_uri": "https://localhost:8080/",
          "height": 204
        },
        "outputId": "f760ee70-96dd-4cbd-8949-9fc4c307a33a"
      },
      "source": [
        "import pandas as pd\n",
        "\n",
        "df = pd.read_csv('https://gist.githubusercontent.com/curran/a08a1080b88344b0c8a7/raw/d546eaee765268bf2f487608c537c05e22e4b221/iris.csv')\n",
        "df.head()"
      ],
      "execution_count": 24,
      "outputs": [
        {
          "output_type": "execute_result",
          "data": {
            "text/html": [
              "<div>\n",
              "<style scoped>\n",
              "    .dataframe tbody tr th:only-of-type {\n",
              "        vertical-align: middle;\n",
              "    }\n",
              "\n",
              "    .dataframe tbody tr th {\n",
              "        vertical-align: top;\n",
              "    }\n",
              "\n",
              "    .dataframe thead th {\n",
              "        text-align: right;\n",
              "    }\n",
              "</style>\n",
              "<table border=\"1\" class=\"dataframe\">\n",
              "  <thead>\n",
              "    <tr style=\"text-align: right;\">\n",
              "      <th></th>\n",
              "      <th>sepal_length</th>\n",
              "      <th>sepal_width</th>\n",
              "      <th>petal_length</th>\n",
              "      <th>petal_width</th>\n",
              "      <th>species</th>\n",
              "    </tr>\n",
              "  </thead>\n",
              "  <tbody>\n",
              "    <tr>\n",
              "      <th>0</th>\n",
              "      <td>5.1</td>\n",
              "      <td>3.5</td>\n",
              "      <td>1.4</td>\n",
              "      <td>0.2</td>\n",
              "      <td>setosa</td>\n",
              "    </tr>\n",
              "    <tr>\n",
              "      <th>1</th>\n",
              "      <td>4.9</td>\n",
              "      <td>3.0</td>\n",
              "      <td>1.4</td>\n",
              "      <td>0.2</td>\n",
              "      <td>setosa</td>\n",
              "    </tr>\n",
              "    <tr>\n",
              "      <th>2</th>\n",
              "      <td>4.7</td>\n",
              "      <td>3.2</td>\n",
              "      <td>1.3</td>\n",
              "      <td>0.2</td>\n",
              "      <td>setosa</td>\n",
              "    </tr>\n",
              "    <tr>\n",
              "      <th>3</th>\n",
              "      <td>4.6</td>\n",
              "      <td>3.1</td>\n",
              "      <td>1.5</td>\n",
              "      <td>0.2</td>\n",
              "      <td>setosa</td>\n",
              "    </tr>\n",
              "    <tr>\n",
              "      <th>4</th>\n",
              "      <td>5.0</td>\n",
              "      <td>3.6</td>\n",
              "      <td>1.4</td>\n",
              "      <td>0.2</td>\n",
              "      <td>setosa</td>\n",
              "    </tr>\n",
              "  </tbody>\n",
              "</table>\n",
              "</div>"
            ],
            "text/plain": [
              "   sepal_length  sepal_width  petal_length  petal_width species\n",
              "0           5.1          3.5           1.4          0.2  setosa\n",
              "1           4.9          3.0           1.4          0.2  setosa\n",
              "2           4.7          3.2           1.3          0.2  setosa\n",
              "3           4.6          3.1           1.5          0.2  setosa\n",
              "4           5.0          3.6           1.4          0.2  setosa"
            ]
          },
          "metadata": {
            "tags": []
          },
          "execution_count": 24
        }
      ]
    },
    {
      "cell_type": "code",
      "metadata": {
        "id": "1JzLRe2jzMyv",
        "colab_type": "code",
        "colab": {}
      },
      "source": [
        "x = df.loc[:,'sepal_length':'sepal_width']\n",
        "y = df.loc[:,'petal_length':'petal_width']\n",
        "covariance = np.cov(x.T)"
      ],
      "execution_count": 0,
      "outputs": []
    },
    {
      "cell_type": "code",
      "metadata": {
        "id": "PImwilKnxLVp",
        "colab_type": "code",
        "colab": {
          "base_uri": "https://localhost:8080/",
          "height": 51
        },
        "outputId": "87752b7a-9b11-4c78-e6ad-fc8322a5ea6c"
      },
      "source": [
        "import numpy as np\n",
        "covariance = np.cov(x.T)\n",
        "e_values, e_vector = np.linalg.eig(covariance)\n",
        "print(\"Eigenvalues: \", e_values,\n",
        "      \"Eigenvectors: \", e_vector)"
      ],
      "execution_count": 50,
      "outputs": [
        {
          "output_type": "stream",
          "text": [
            "Eigenvalues:  [0.6887728  0.18492474] Eigenvectors:  [[ 0.99693955  0.07817635]\n",
            " [-0.07817635  0.99693955]]\n"
          ],
          "name": "stdout"
        }
      ]
    },
    {
      "cell_type": "code",
      "metadata": {
        "id": "EJgqRloEzaaR",
        "colab_type": "code",
        "colab": {
          "base_uri": "https://localhost:8080/",
          "height": 1000
        },
        "outputId": "f134d3c7-0e6f-41d5-ac07-ae50742ae07a"
      },
      "source": [
        "z = e_vector.T.dot(x.T)\n",
        "z"
      ],
      "execution_count": 53,
      "outputs": [
        {
          "output_type": "execute_result",
          "data": {
            "text/plain": [
              "array([[4.81077444, 4.65047471, 4.43545153, 4.34357521, 4.70326285,\n",
              "        5.07858577, 4.32012231, 4.71889812, 4.15982257, 4.64265708,\n",
              "        5.09422104, 4.51951021, 4.55078076, 4.05231098, 5.46954395,\n",
              "        5.33857945, 5.07858577, 4.81077444, 5.38548526, 4.78732154,\n",
              "        5.11767394, 4.79513917, 4.30448703, 4.82640971, 4.51951021,\n",
              "        4.75016867, 4.71889812, 4.9104684 , 4.91828603, 4.43545153,\n",
              "        4.54296312, 5.11767394, 4.86356259, 5.15482681, 4.64265708,\n",
              "        4.73453339, 5.20955026, 4.64265708, 4.15200494, 4.81859208,\n",
              "        4.71108049, 4.30642234, 4.13636967, 4.71108049, 4.78732154,\n",
              "        4.55078076, 4.78732154, 4.33575758, 4.99452708, 4.72671576,\n",
              "        6.72841249, 6.13024876, 6.63653617, 5.30336189, 6.26121325,\n",
              "        5.46366162, 6.02273717, 4.69738052, 6.35308957, 4.97300948,\n",
              "        4.82834502, 5.64741426, 5.80964929, 5.8546198 , 5.35615003,\n",
              "        6.43714826, 5.34833239, 5.57117321, 6.0090372 , 5.38742057,\n",
              "        5.63177899, 5.86243744, 6.08527825, 5.86243744, 6.15370166,\n",
              "        6.34527194, 6.56029512, 6.44496589, 5.75492585, 5.47929689,\n",
              "        5.29554425, 5.29554425, 5.57117321, 5.77056112, 5.14894448,\n",
              "        5.71583767, 6.43714826, 6.10091352, 5.34833239, 5.28772662,\n",
              "        5.27990898, 5.84680217, 5.57899084, 4.80489211, 5.3717853 ,\n",
              "        5.44802635, 5.45584398, 5.95431376, 4.8889508 , 5.46366162,\n",
              "        6.02273717, 5.57117321, 6.84374171, 6.05400771, 6.24557798,\n",
              "        7.34221148, 4.68956289, 7.05094726, 6.48405407, 6.89652985,\n",
              "        6.22994271, 6.16933694, 6.54465985, 5.48711452, 5.56335557,\n",
              "        6.13024876, 6.24557798, 7.37936436, 7.47317598, 5.80964929,\n",
              "        6.62871853, 5.36396766, 7.45754071, 6.06964298, 6.42151299,\n",
              "        6.9278004 , 5.96213139, 5.84680217, 6.1615193 , 6.94343567,\n",
              "        7.15845885, 7.57875226, 6.1615193 , 6.06182535, 5.87807271,\n",
              "        7.44190544, 6.01491953, 6.13806639, 5.74710821, 6.63653617,\n",
              "        6.43714826, 6.63653617, 5.57117321, 6.52902458, 6.42151299,\n",
              "        6.44496589, 6.08527825, 6.24557798, 5.91522558, 5.64741426],\n",
              "       [3.88798782, 3.37388277, 3.55763541, 3.45012382, 3.97986414,\n",
              "        4.31021654, 3.74920568, 3.78047623, 3.23510064, 3.47357673,\n",
              "        4.11082863, 3.76484096, 3.36606514, 3.32697696, 4.44118104,\n",
              "        4.83213922, 4.31021654, 3.88798782, 4.23397549, 4.18706968,\n",
              "        3.81174677, 4.08737573, 3.94859359, 3.68859991, 3.76484096,\n",
              "        3.38170041, 3.78047623, 3.89580545, 3.7961115 , 3.55763541,\n",
              "        3.46575909, 3.81174677, 4.49396918, 4.61711604, 3.47357673,\n",
              "        3.58108832, 3.91925836, 3.47357673, 3.3347946 , 3.78829386,\n",
              "        3.88017018, 2.64475455, 3.5341825 , 3.88017018, 4.18706968,\n",
              "        3.36606514, 4.18706968, 3.54981778, 4.103011  , 3.68078227,\n",
              "        3.73744103, 3.69053521, 3.62992944, 2.7229309 , 3.29957703,\n",
              "        3.23703595, 3.78241153, 2.77571905, 3.40708862, 3.09825381,\n",
              "        2.38476086, 3.45205913, 2.66232513, 3.36800044, 3.32891227,\n",
              "        3.61429416, 3.42860622, 3.14515963, 2.6779604 , 2.93013645,\n",
              "        3.65144704, 3.26830649, 2.9848599 , 3.26830649, 3.39145335,\n",
              "        3.50678257, 3.32302994, 3.51460021, 3.36018281, 3.03764804,\n",
              "        2.82262486, 2.82262486, 3.14515963, 3.1607949 , 3.41297095,\n",
              "        3.85865258, 3.61429416, 2.78547199, 3.42860622, 2.92231881,\n",
              "        3.02201277, 3.4676944 , 3.04546567, 2.68384273, 3.12952436,\n",
              "        3.43642386, 3.3367299 , 3.37581808, 2.89104827, 3.23703595,\n",
              "        3.78241153, 3.14515963, 3.54587075, 3.38363571, 3.49896494,\n",
              "        3.58495893, 2.875413  , 3.46181207, 3.01613044, 4.15185211,\n",
              "        3.69835285, 3.19206544, 3.52241785, 2.93795408, 3.24485358,\n",
              "        3.69053521, 3.49896494, 4.3903282 , 3.19400075, 2.66232513,\n",
              "        3.72962339, 3.22921831, 3.39338865, 3.1842478 , 3.81368207,\n",
              "        3.7530763 , 3.27612412, 3.4676944 , 3.29175939, 3.55368839,\n",
              "        3.36993575, 4.40596347, 3.29175939, 3.28394176, 3.06891858,\n",
              "        3.59277656, 3.88210549, 3.59084126, 3.45987676, 3.62992944,\n",
              "        3.61429416, 3.62992944, 3.14515963, 3.72180575, 3.81368207,\n",
              "        3.51460021, 2.9848599 , 3.49896494, 3.87428785, 3.45205913]])"
            ]
          },
          "metadata": {
            "tags": []
          },
          "execution_count": 53
        }
      ]
    },
    {
      "cell_type": "markdown",
      "metadata": {
        "id": "RQx7UvsucIrL",
        "colab_type": "text"
      },
      "source": [
        "# Stretch Goal\n",
        "\n",
        "## 1) Do NOT work on the stretch goal until you feel like you have a firm grasp of eigenvectors, eigenvalues, and PCA. Prioritize self-study over the stretch goal if you are not comfortable with those topics yet.\n",
        "\n",
        "## 2) Explore further the intuition behind eigenvalues and eigenvectors by creating your very own eigenfaces:\n",
        "\n",
        "<center>![Eigenfaces](https://i.pinimg.com/236x/1c/f1/01/1cf101a9859437a5d096a04b05be06b4--faces-tattoo.jpg)</center>\n",
        "\n",
        "You don't necessarily have to use this resource, but this will get you started: \n",
        "[Eigenface Tutorial](https://sandipanweb.wordpress.com/2018/01/06/eigenfaces-and-a-simple-face-detector-with-pca-svd-in-python/)"
      ]
    }
  ]
}